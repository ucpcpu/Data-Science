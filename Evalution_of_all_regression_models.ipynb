{
  "nbformat": 4,
  "nbformat_minor": 0,
  "metadata": {
    "colab": {
      "provenance": [],
      "authorship_tag": "ABX9TyOyhY5OcQ8L21f7GVaWDzEU",
      "include_colab_link": true
    },
    "kernelspec": {
      "name": "python3",
      "display_name": "Python 3"
    },
    "language_info": {
      "name": "python"
    }
  },
  "cells": [
    {
      "cell_type": "markdown",
      "metadata": {
        "id": "view-in-github",
        "colab_type": "text"
      },
      "source": [
        "<a href=\"https://colab.research.google.com/github/ucpcpu/Data-Science/blob/main/Evalution_of_all_regression_models.ipynb\" target=\"_parent\"><img src=\"https://colab.research.google.com/assets/colab-badge.svg\" alt=\"Open In Colab\"/></a>"
      ]
    },
    {
      "cell_type": "markdown",
      "source": [
        "#Multiple Linear Regression"
      ],
      "metadata": {
        "id": "BbKdsnt3_kQs"
      }
    },
    {
      "cell_type": "code",
      "source": [
        "#importing the libraries\n",
        "import numpy as np\n",
        "import pandas as pd\n",
        "import matplotlib.pyplot as plt\n",
        "\n",
        "#importing the dataset\n",
        "dataset=pd.read_csv(\"/content/Data.csv\")\n",
        "x=dataset.iloc[:,:-1].values\n",
        "y=dataset.iloc[:,-1].values\n",
        "\n",
        "#train test split\n",
        "from sklearn.model_selection import train_test_split\n",
        "x_train, x_test, y_train, y_test = train_test_split(x, y, test_size=0.2, random_state=0)\n",
        "\n",
        "#importing the model and training it\n",
        "from sklearn.linear_model import LinearRegression\n",
        "regressor=LinearRegression()\n",
        "regressor.fit(x_train, y_train)\n",
        "\n",
        "#predicting the results\n",
        "y_pred = regressor.predict(x_test)\n",
        "np.set_printoptions(precision=2)\n",
        "print(np.concatenate((y_pred.reshape(len(y_pred),1), y_test.reshape(len(y_test),1)),1))\n",
        "\n",
        "from sklearn.metrics import r2_score\n",
        "k1=r2_score(y_test, y_pred)\n",
        "print(k1)"
      ],
      "metadata": {
        "id": "mqDe628i-kEJ",
        "colab": {
          "base_uri": "https://localhost:8080/"
        },
        "outputId": "2c1a6f59-8a40-4988-fb37-2ae69bf42b06"
      },
      "execution_count": null,
      "outputs": [
        {
          "output_type": "stream",
          "name": "stdout",
          "text": [
            "[[431.43 431.23]\n",
            " [458.56 460.01]\n",
            " [462.75 461.14]\n",
            " ...\n",
            " [469.52 473.26]\n",
            " [442.42 438.  ]\n",
            " [461.88 463.28]]\n",
            "0.9325315554761303\n"
          ]
        }
      ]
    },
    {
      "cell_type": "markdown",
      "source": [
        "#Polynomial Regression"
      ],
      "metadata": {
        "id": "5L3SW9rX_jA5"
      }
    },
    {
      "cell_type": "code",
      "source": [
        "\n",
        "#importing the libraries\n",
        "import numpy as np\n",
        "import matplotlib.pyplot as plt\n",
        "import pandas as pd\n",
        "\n",
        "#importing the dataset\n",
        "dataset=pd.read_csv(\"/content/Data.csv\")\n",
        "print(dataset)\n",
        "x=dataset.iloc[:,:-1].values\n",
        "y=dataset.iloc[:,-1].values\n",
        "\n",
        "#Training Linear regression on whole dataset\n",
        "from sklearn.linear_model import LinearRegression\n",
        "lin_reg=LinearRegression()\n",
        "lin_reg.fit(x,y)\n",
        "\n",
        "#Training Polynomial regression model on whole dataset\n",
        "from sklearn.preprocessing import PolynomialFeatures\n",
        "poly_reg=PolynomialFeatures(degree=4)\n",
        "x_poly=poly_reg.fit_transform(x)\n",
        "lin_reg_2=LinearRegression()\n",
        "lin_reg_2.fit(x_poly,y)\n",
        "\n",
        "y_pred=regressor.predict(x_test)\n",
        "\n",
        "from sklearn.metrics import r2_score\n",
        "k2=r2_score(y_test, y_pred)\n",
        "print(k2)"
      ],
      "metadata": {
        "id": "9udZreD4_bLz",
        "colab": {
          "base_uri": "https://localhost:8080/"
        },
        "outputId": "074a1a6a-d626-4d79-86b3-3ed4bf86eec7"
      },
      "execution_count": null,
      "outputs": [
        {
          "output_type": "stream",
          "name": "stdout",
          "text": [
            "         AT      V       AP     RH      PE\n",
            "0     14.96  41.76  1024.07  73.17  463.26\n",
            "1     25.18  62.96  1020.04  59.08  444.37\n",
            "2      5.11  39.40  1012.16  92.14  488.56\n",
            "3     20.86  57.32  1010.24  76.64  446.48\n",
            "4     10.82  37.50  1009.23  96.62  473.90\n",
            "...     ...    ...      ...    ...     ...\n",
            "9563  16.65  49.69  1014.01  91.00  460.03\n",
            "9564  13.19  39.18  1023.67  66.78  469.62\n",
            "9565  31.32  74.33  1012.92  36.48  429.57\n",
            "9566  24.48  69.45  1013.86  62.39  435.74\n",
            "9567  21.60  62.52  1017.23  67.87  453.28\n",
            "\n",
            "[9568 rows x 5 columns]\n",
            "0.9325315554761303\n"
          ]
        }
      ]
    },
    {
      "cell_type": "markdown",
      "source": [
        "#Support Vector Regression"
      ],
      "metadata": {
        "id": "vU8etJr7_uZJ"
      }
    },
    {
      "cell_type": "code",
      "execution_count": null,
      "metadata": {
        "id": "LLjU_hcK-V6X",
        "colab": {
          "base_uri": "https://localhost:8080/"
        },
        "outputId": "4aa0a977-1df4-4ff4-ef64-238dabf73a14"
      },
      "outputs": [
        {
          "output_type": "stream",
          "name": "stdout",
          "text": [
            "[[  14.96   41.76 1024.07   73.17]\n",
            " [  25.18   62.96 1020.04   59.08]\n",
            " [   5.11   39.4  1012.16   92.14]\n",
            " ...\n",
            " [  31.32   74.33 1012.92   36.48]\n",
            " [  24.48   69.45 1013.86   62.39]\n",
            " [  21.6    62.52 1017.23   67.87]]\n",
            "[463.26 444.37 488.56 ... 429.57 435.74 453.28]\n",
            "[[463.26]\n",
            " [444.37]\n",
            " [488.56]\n",
            " ...\n",
            " [429.57]\n",
            " [435.74]\n",
            " [453.28]]\n",
            "[[-0.63 -0.99  1.82 -0.01]\n",
            " [ 0.74  0.68  1.14 -0.97]\n",
            " [-1.95 -1.17 -0.19  1.29]\n",
            " ...\n",
            " [ 1.57  1.58 -0.06 -2.52]\n",
            " [ 0.65  1.19  0.1  -0.75]\n",
            " [ 0.26  0.65  0.67 -0.37]]\n",
            "[[ 0.52]\n",
            " [-0.59]\n",
            " [ 2.  ]\n",
            " ...\n",
            " [-1.45]\n",
            " [-1.09]\n",
            " [-0.06]]\n"
          ]
        },
        {
          "output_type": "stream",
          "name": "stderr",
          "text": [
            "/usr/local/lib/python3.10/dist-packages/sklearn/utils/validation.py:1143: DataConversionWarning: A column-vector y was passed when a 1d array was expected. Please change the shape of y to (n_samples, ), for example using ravel().\n",
            "  y = column_or_1d(y, warn=True)\n"
          ]
        },
        {
          "output_type": "stream",
          "name": "stdout",
          "text": [
            "0.9462182792854952\n"
          ]
        }
      ],
      "source": [
        "\n",
        "#importing the libraries\n",
        "import numpy as np\n",
        "import matplotlib.pyplot as plt\n",
        "import pandas as pd\n",
        "\n",
        "#importing the dataset\n",
        "dataset = pd.read_csv(\"/content/Data.csv\")\n",
        "x = dataset.iloc[:,:-1].values\n",
        "y = dataset.iloc[:, -1].values\n",
        "print(x)\n",
        "print(y)\n",
        "print(y.reshape(len(y),1))\n",
        "y=y.reshape(len(y),1)\n",
        "\n",
        "#feature scaling\n",
        "from sklearn.preprocessing import StandardScaler\n",
        "sc_x=StandardScaler()\n",
        "sc_y=StandardScaler()\n",
        "x=sc_x.fit_transform(x)\n",
        "y=sc_y.fit_transform(y)\n",
        "print(x)\n",
        "print(y)\n",
        "\n",
        "#training the svr model on whole dataset\n",
        "from sklearn.svm import SVR\n",
        "regressor=SVR(kernel=\"rbf\")\n",
        "regressor.fit(x,y)\n",
        "\n",
        "y_pred=regressor.predict(x)\n",
        "\n",
        "from sklearn.metrics import r2_score\n",
        "k3=r2_score(y,y_pred)\n",
        "print(k3)"
      ]
    },
    {
      "cell_type": "markdown",
      "source": [
        "#Decision Tree Regressor"
      ],
      "metadata": {
        "id": "tyYaN_Kg_1dg"
      }
    },
    {
      "cell_type": "code",
      "source": [
        "\n",
        "#importing libraries\n",
        "import numpy as np\n",
        "import matplotlib.pyplot as plt\n",
        "import pandas as pd\n",
        "\n",
        "#importing the dataset\n",
        "dataset=pd.read_csv(\"/content/Data.csv\")\n",
        "x=dataset.iloc[:,:-1].values\n",
        "y=dataset.iloc[:,-1].values\n",
        "\n",
        "#importing and traing the model\n",
        "from sklearn.tree import DecisionTreeRegressor\n",
        "regressor=DecisionTreeRegressor(random_state=0)\n",
        "regressor.fit(x,y)\n",
        "\n",
        "from sklearn.metrics import r2_score\n",
        "k4=r2_score(y, regressor.predict(x))\n",
        "print(k4)"
      ],
      "metadata": {
        "id": "IVkiKHHQ-z90",
        "colab": {
          "base_uri": "https://localhost:8080/"
        },
        "outputId": "ef6a7a52-a2cd-4b5c-a14a-240dbdcf4cd2"
      },
      "execution_count": null,
      "outputs": [
        {
          "output_type": "stream",
          "name": "stdout",
          "text": [
            "1.0\n"
          ]
        }
      ]
    },
    {
      "cell_type": "markdown",
      "source": [
        "#Random Forest Regression"
      ],
      "metadata": {
        "id": "97v30Zyx_y2Q"
      }
    },
    {
      "cell_type": "code",
      "source": [
        "\n",
        "#importing libraries\n",
        "import numpy as np\n",
        "import matplotlib.pyplot as plt\n",
        "import pandas as pd\n",
        "dataset=pd.read_csv(\"/content/Data.csv\")\n",
        "x=dataset.iloc[:,:-1].values\n",
        "y=dataset.iloc[:,-1].values\n",
        "\n",
        "#importing and traing the model\n",
        "from sklearn.ensemble import RandomForestRegressor\n",
        "regressor=RandomForestRegressor(n_estimators=10,random_state=0)\n",
        "regressor.fit(x,y)\n",
        "\n",
        "from sklearn.metrics import r2_score\n",
        "k5=r2_score(y, regressor.predict(x))\n",
        "print(k5)"
      ],
      "metadata": {
        "id": "f3gi1u9V_mpA",
        "colab": {
          "base_uri": "https://localhost:8080/"
        },
        "outputId": "aad2aef9-34e8-41aa-dc63-b90fc2ef4229"
      },
      "execution_count": null,
      "outputs": [
        {
          "output_type": "stream",
          "name": "stdout",
          "text": [
            "0.9926041916640439\n"
          ]
        }
      ]
    },
    {
      "cell_type": "code",
      "source": [
        "print(\"The Accuracy Scores for the models in respective manner\")\n",
        "print([k1,k2,k3,k4,k5])"
      ],
      "metadata": {
        "colab": {
          "base_uri": "https://localhost:8080/"
        },
        "id": "wuZfSou5ALyd",
        "outputId": "66346bf3-7f72-4166-c327-4c0ec1d18c09"
      },
      "execution_count": 3,
      "outputs": [
        {
          "output_type": "stream",
          "name": "stdout",
          "text": [
            "The Accuracy Scores for the models in respective manner\n"
          ]
        }
      ]
    }
  ]
}